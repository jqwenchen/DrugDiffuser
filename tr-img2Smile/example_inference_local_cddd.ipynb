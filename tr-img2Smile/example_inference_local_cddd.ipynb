{
 "cells": [
  {
   "cell_type": "markdown",
   "id": "4ce27bcb",
   "metadata": {},
   "source": [
    "Copyright 2021 Machine Learning Research @ Bayer AG\n",
    "\n",
    "Licensed for non-commercial use only, under the terms of the\n",
    "Creative Commons Attribution-NonCommercial 4.0 International (CC BY-NC 4.0) license.\n",
    "\n",
    "You can find details at: https://creativecommons.org/licenses/by-nc/4.0/legalcode"
   ]
  },
  {
   "cell_type": "code",
   "execution_count": 1,
   "id": "b9b48452",
   "metadata": {},
   "outputs": [
    {
     "name": "stderr",
     "output_type": "stream",
     "text": [
      "/home/lovenan/.conda/envs/img2mol-local/lib/python3.6/site-packages/tqdm/auto.py:22: TqdmWarning: IProgress not found. Please update jupyter and ipywidgets. See https://ipywidgets.readthedocs.io/en/stable/user_install.html\n",
      "  from .autonotebook import tqdm as notebook_tqdm\n"
     ]
    }
   ],
   "source": [
    "import sys\n",
    "import os\n",
    "from IPython.display import display\n",
    "from PIL import Image\n",
    "os.environ['TF_CPP_MIN_LOG_LEVEL'] = '3'\n",
    "\n",
    "from img2mol.inference import *\n",
    "from tqdm import tqdm\n",
    "import pandas as pd"
   ]
  },
  {
   "cell_type": "code",
   "execution_count": 2,
   "id": "99236cf4",
   "metadata": {},
   "outputs": [
    {
     "name": "stdout",
     "output_type": "stream",
     "text": [
      "Initializing Img2Mol Model with random weights.\n",
      "Loading checkpoint: model/model.ckpt\n",
      "Setting to `self.eval()`-mode.\n",
      "Sending model to `cuda:0` device.\n",
      "Succesfully created Img2Mol Inference class.\n"
     ]
    }
   ],
   "source": [
    "img2mol = Img2MolInference(model_ckpt=\"model/model.ckpt\", local_cddd=True)"
   ]
  },
  {
   "cell_type": "code",
   "execution_count": null,
   "id": "5416f16c-de23-474e-a4b4-86615ed14b0c",
   "metadata": {},
   "outputs": [],
   "source": [
    "def runlive():\n",
    "    livertox_dataset = [i for i in os.listdir('../drug-diffuser-0717/datasets/LiverTox/') if i.endswith('.jpg')]\n",
    "    livertox_result = []\n",
    "    for image in tqdm(livertox_dataset):\n",
    "        tmp_res = img2mol(filepath=f'../drug-diffuser-0717/datasets/LiverTox/{image}')\n",
    "        livertox_result.append(tmp_res)\n",
    "    df_livertox = pd.DataFrame(livertox_result)\n",
    "    df_livertox.iloc[:, :3].to_csv('livertox_result.csv', index=False)\n",
    "\n",
    "runlive()"
   ]
  },
  {
   "cell_type": "code",
   "execution_count": 4,
   "id": "dac31eed-f30b-4bd7-88b9-6fee74511012",
   "metadata": {},
   "outputs": [
    {
     "name": "stderr",
     "output_type": "stream",
     "text": [
      " 97%|█████████▋| 1031/1066 [12:47<00:25,  1.35it/s]"
     ]
    },
    {
     "name": "stdout",
     "output_type": "stream",
     "text": [
      "INFO:tensorflow:Restoring parameters from /home/lovenan/.conda/envs/img2mol-local/lib/python3.6/site-packages/cddd/data/default_model/model.ckpt\n"
     ]
    },
    {
     "name": "stderr",
     "output_type": "stream",
     "text": [
      " 97%|█████████▋| 1032/1066 [12:47<00:24,  1.38it/s]"
     ]
    },
    {
     "name": "stdout",
     "output_type": "stream",
     "text": [
      "INFO:tensorflow:Restoring parameters from /home/lovenan/.conda/envs/img2mol-local/lib/python3.6/site-packages/cddd/data/default_model/model.ckpt\n"
     ]
    },
    {
     "name": "stderr",
     "output_type": "stream",
     "text": [
      " 97%|█████████▋| 1033/1066 [12:48<00:23,  1.43it/s]"
     ]
    },
    {
     "name": "stdout",
     "output_type": "stream",
     "text": [
      "INFO:tensorflow:Restoring parameters from /home/lovenan/.conda/envs/img2mol-local/lib/python3.6/site-packages/cddd/data/default_model/model.ckpt\n"
     ]
    },
    {
     "name": "stderr",
     "output_type": "stream",
     "text": [
      " 97%|█████████▋| 1034/1066 [12:49<00:22,  1.42it/s]"
     ]
    },
    {
     "name": "stdout",
     "output_type": "stream",
     "text": [
      "INFO:tensorflow:Restoring parameters from /home/lovenan/.conda/envs/img2mol-local/lib/python3.6/site-packages/cddd/data/default_model/model.ckpt\n"
     ]
    },
    {
     "name": "stderr",
     "output_type": "stream",
     "text": [
      " 97%|█████████▋| 1035/1066 [12:50<00:22,  1.40it/s]"
     ]
    },
    {
     "name": "stdout",
     "output_type": "stream",
     "text": [
      "INFO:tensorflow:Restoring parameters from /home/lovenan/.conda/envs/img2mol-local/lib/python3.6/site-packages/cddd/data/default_model/model.ckpt\n"
     ]
    },
    {
     "name": "stderr",
     "output_type": "stream",
     "text": [
      " 97%|█████████▋| 1036/1066 [12:51<00:23,  1.26it/s]"
     ]
    },
    {
     "name": "stdout",
     "output_type": "stream",
     "text": [
      "INFO:tensorflow:Restoring parameters from /home/lovenan/.conda/envs/img2mol-local/lib/python3.6/site-packages/cddd/data/default_model/model.ckpt\n"
     ]
    },
    {
     "name": "stderr",
     "output_type": "stream",
     "text": [
      " 97%|█████████▋| 1037/1066 [12:51<00:23,  1.25it/s]"
     ]
    },
    {
     "name": "stdout",
     "output_type": "stream",
     "text": [
      "INFO:tensorflow:Restoring parameters from /home/lovenan/.conda/envs/img2mol-local/lib/python3.6/site-packages/cddd/data/default_model/model.ckpt\n"
     ]
    },
    {
     "name": "stderr",
     "output_type": "stream",
     "text": [
      " 97%|█████████▋| 1038/1066 [12:52<00:20,  1.35it/s]"
     ]
    },
    {
     "name": "stdout",
     "output_type": "stream",
     "text": [
      "INFO:tensorflow:Restoring parameters from /home/lovenan/.conda/envs/img2mol-local/lib/python3.6/site-packages/cddd/data/default_model/model.ckpt\n"
     ]
    },
    {
     "name": "stderr",
     "output_type": "stream",
     "text": [
      " 97%|█████████▋| 1039/1066 [12:53<00:20,  1.32it/s]"
     ]
    },
    {
     "name": "stdout",
     "output_type": "stream",
     "text": [
      "INFO:tensorflow:Restoring parameters from /home/lovenan/.conda/envs/img2mol-local/lib/python3.6/site-packages/cddd/data/default_model/model.ckpt\n"
     ]
    },
    {
     "name": "stderr",
     "output_type": "stream",
     "text": [
      " 98%|█████████▊| 1040/1066 [12:54<00:20,  1.29it/s]"
     ]
    },
    {
     "name": "stdout",
     "output_type": "stream",
     "text": [
      "INFO:tensorflow:Restoring parameters from /home/lovenan/.conda/envs/img2mol-local/lib/python3.6/site-packages/cddd/data/default_model/model.ckpt\n"
     ]
    },
    {
     "name": "stderr",
     "output_type": "stream",
     "text": [
      " 98%|█████████▊| 1041/1066 [12:54<00:17,  1.41it/s]"
     ]
    },
    {
     "name": "stdout",
     "output_type": "stream",
     "text": [
      "INFO:tensorflow:Restoring parameters from /home/lovenan/.conda/envs/img2mol-local/lib/python3.6/site-packages/cddd/data/default_model/model.ckpt\n"
     ]
    },
    {
     "name": "stderr",
     "output_type": "stream",
     "text": [
      " 98%|█████████▊| 1042/1066 [12:55<00:16,  1.45it/s]"
     ]
    },
    {
     "name": "stdout",
     "output_type": "stream",
     "text": [
      "INFO:tensorflow:Restoring parameters from /home/lovenan/.conda/envs/img2mol-local/lib/python3.6/site-packages/cddd/data/default_model/model.ckpt\n"
     ]
    },
    {
     "name": "stderr",
     "output_type": "stream",
     "text": [
      " 98%|█████████▊| 1043/1066 [12:55<00:15,  1.50it/s]"
     ]
    },
    {
     "name": "stdout",
     "output_type": "stream",
     "text": [
      "INFO:tensorflow:Restoring parameters from /home/lovenan/.conda/envs/img2mol-local/lib/python3.6/site-packages/cddd/data/default_model/model.ckpt\n"
     ]
    },
    {
     "name": "stderr",
     "output_type": "stream",
     "text": [
      " 98%|█████████▊| 1044/1066 [12:56<00:15,  1.41it/s]"
     ]
    },
    {
     "name": "stdout",
     "output_type": "stream",
     "text": [
      "INFO:tensorflow:Restoring parameters from /home/lovenan/.conda/envs/img2mol-local/lib/python3.6/site-packages/cddd/data/default_model/model.ckpt\n"
     ]
    },
    {
     "name": "stderr",
     "output_type": "stream",
     "text": [
      " 98%|█████████▊| 1045/1066 [12:57<00:15,  1.38it/s]"
     ]
    },
    {
     "name": "stdout",
     "output_type": "stream",
     "text": [
      "INFO:tensorflow:Restoring parameters from /home/lovenan/.conda/envs/img2mol-local/lib/python3.6/site-packages/cddd/data/default_model/model.ckpt\n"
     ]
    },
    {
     "name": "stderr",
     "output_type": "stream",
     "text": [
      " 98%|█████████▊| 1046/1066 [12:58<00:14,  1.37it/s]"
     ]
    },
    {
     "name": "stdout",
     "output_type": "stream",
     "text": [
      "INFO:tensorflow:Restoring parameters from /home/lovenan/.conda/envs/img2mol-local/lib/python3.6/site-packages/cddd/data/default_model/model.ckpt\n"
     ]
    },
    {
     "name": "stderr",
     "output_type": "stream",
     "text": [
      " 98%|█████████▊| 1047/1066 [12:58<00:13,  1.38it/s]"
     ]
    },
    {
     "name": "stdout",
     "output_type": "stream",
     "text": [
      "INFO:tensorflow:Restoring parameters from /home/lovenan/.conda/envs/img2mol-local/lib/python3.6/site-packages/cddd/data/default_model/model.ckpt\n"
     ]
    },
    {
     "name": "stderr",
     "output_type": "stream",
     "text": [
      " 98%|█████████▊| 1048/1066 [12:59<00:12,  1.44it/s]"
     ]
    },
    {
     "name": "stdout",
     "output_type": "stream",
     "text": [
      "INFO:tensorflow:Restoring parameters from /home/lovenan/.conda/envs/img2mol-local/lib/python3.6/site-packages/cddd/data/default_model/model.ckpt\n"
     ]
    },
    {
     "name": "stderr",
     "output_type": "stream",
     "text": [
      " 98%|█████████▊| 1049/1066 [13:00<00:11,  1.43it/s]"
     ]
    },
    {
     "name": "stdout",
     "output_type": "stream",
     "text": [
      "1049\n",
      "INFO:tensorflow:Restoring parameters from /home/lovenan/.conda/envs/img2mol-local/lib/python3.6/site-packages/cddd/data/default_model/model.ckpt\n"
     ]
    },
    {
     "name": "stderr",
     "output_type": "stream",
     "text": [
      " 98%|█████████▊| 1050/1066 [13:00<00:10,  1.46it/s]"
     ]
    },
    {
     "name": "stdout",
     "output_type": "stream",
     "text": [
      "INFO:tensorflow:Restoring parameters from /home/lovenan/.conda/envs/img2mol-local/lib/python3.6/site-packages/cddd/data/default_model/model.ckpt\n"
     ]
    },
    {
     "name": "stderr",
     "output_type": "stream",
     "text": [
      " 99%|█████████▊| 1051/1066 [13:01<00:10,  1.43it/s]"
     ]
    },
    {
     "name": "stdout",
     "output_type": "stream",
     "text": [
      "INFO:tensorflow:Restoring parameters from /home/lovenan/.conda/envs/img2mol-local/lib/python3.6/site-packages/cddd/data/default_model/model.ckpt\n"
     ]
    },
    {
     "name": "stderr",
     "output_type": "stream",
     "text": [
      " 99%|█████████▊| 1052/1066 [13:02<00:09,  1.47it/s]"
     ]
    },
    {
     "name": "stdout",
     "output_type": "stream",
     "text": [
      "INFO:tensorflow:Restoring parameters from /home/lovenan/.conda/envs/img2mol-local/lib/python3.6/site-packages/cddd/data/default_model/model.ckpt\n"
     ]
    },
    {
     "name": "stderr",
     "output_type": "stream",
     "text": [
      " 99%|█████████▉| 1053/1066 [13:02<00:08,  1.54it/s]"
     ]
    },
    {
     "name": "stdout",
     "output_type": "stream",
     "text": [
      "INFO:tensorflow:Restoring parameters from /home/lovenan/.conda/envs/img2mol-local/lib/python3.6/site-packages/cddd/data/default_model/model.ckpt\n"
     ]
    },
    {
     "name": "stderr",
     "output_type": "stream",
     "text": [
      " 99%|█████████▉| 1054/1066 [13:03<00:07,  1.54it/s]"
     ]
    },
    {
     "name": "stdout",
     "output_type": "stream",
     "text": [
      "INFO:tensorflow:Restoring parameters from /home/lovenan/.conda/envs/img2mol-local/lib/python3.6/site-packages/cddd/data/default_model/model.ckpt\n"
     ]
    },
    {
     "name": "stderr",
     "output_type": "stream",
     "text": [
      " 99%|█████████▉| 1055/1066 [13:04<00:07,  1.42it/s]"
     ]
    },
    {
     "name": "stdout",
     "output_type": "stream",
     "text": [
      "INFO:tensorflow:Restoring parameters from /home/lovenan/.conda/envs/img2mol-local/lib/python3.6/site-packages/cddd/data/default_model/model.ckpt\n"
     ]
    },
    {
     "name": "stderr",
     "output_type": "stream",
     "text": [
      " 99%|█████████▉| 1056/1066 [13:05<00:07,  1.32it/s]"
     ]
    },
    {
     "name": "stdout",
     "output_type": "stream",
     "text": [
      "INFO:tensorflow:Restoring parameters from /home/lovenan/.conda/envs/img2mol-local/lib/python3.6/site-packages/cddd/data/default_model/model.ckpt\n"
     ]
    },
    {
     "name": "stderr",
     "output_type": "stream",
     "text": [
      " 99%|█████████▉| 1057/1066 [13:05<00:06,  1.45it/s]"
     ]
    },
    {
     "name": "stdout",
     "output_type": "stream",
     "text": [
      "INFO:tensorflow:Restoring parameters from /home/lovenan/.conda/envs/img2mol-local/lib/python3.6/site-packages/cddd/data/default_model/model.ckpt\n"
     ]
    },
    {
     "name": "stderr",
     "output_type": "stream",
     "text": [
      " 99%|█████████▉| 1058/1066 [13:06<00:05,  1.38it/s]"
     ]
    },
    {
     "name": "stdout",
     "output_type": "stream",
     "text": [
      "INFO:tensorflow:Restoring parameters from /home/lovenan/.conda/envs/img2mol-local/lib/python3.6/site-packages/cddd/data/default_model/model.ckpt\n"
     ]
    },
    {
     "name": "stderr",
     "output_type": "stream",
     "text": [
      " 99%|█████████▉| 1059/1066 [13:07<00:05,  1.34it/s]"
     ]
    },
    {
     "name": "stdout",
     "output_type": "stream",
     "text": [
      "INFO:tensorflow:Restoring parameters from /home/lovenan/.conda/envs/img2mol-local/lib/python3.6/site-packages/cddd/data/default_model/model.ckpt\n"
     ]
    },
    {
     "name": "stderr",
     "output_type": "stream",
     "text": [
      " 99%|█████████▉| 1060/1066 [13:07<00:04,  1.42it/s]"
     ]
    },
    {
     "name": "stdout",
     "output_type": "stream",
     "text": [
      "INFO:tensorflow:Restoring parameters from /home/lovenan/.conda/envs/img2mol-local/lib/python3.6/site-packages/cddd/data/default_model/model.ckpt\n"
     ]
    },
    {
     "name": "stderr",
     "output_type": "stream",
     "text": [
      "100%|█████████▉| 1061/1066 [13:08<00:03,  1.41it/s]"
     ]
    },
    {
     "name": "stdout",
     "output_type": "stream",
     "text": [
      "INFO:tensorflow:Restoring parameters from /home/lovenan/.conda/envs/img2mol-local/lib/python3.6/site-packages/cddd/data/default_model/model.ckpt\n"
     ]
    },
    {
     "name": "stderr",
     "output_type": "stream",
     "text": [
      "100%|█████████▉| 1062/1066 [13:09<00:02,  1.42it/s]"
     ]
    },
    {
     "name": "stdout",
     "output_type": "stream",
     "text": [
      "INFO:tensorflow:Restoring parameters from /home/lovenan/.conda/envs/img2mol-local/lib/python3.6/site-packages/cddd/data/default_model/model.ckpt\n"
     ]
    },
    {
     "name": "stderr",
     "output_type": "stream",
     "text": [
      "100%|█████████▉| 1063/1066 [13:09<00:02,  1.45it/s]"
     ]
    },
    {
     "name": "stdout",
     "output_type": "stream",
     "text": [
      "INFO:tensorflow:Restoring parameters from /home/lovenan/.conda/envs/img2mol-local/lib/python3.6/site-packages/cddd/data/default_model/model.ckpt\n"
     ]
    },
    {
     "name": "stderr",
     "output_type": "stream",
     "text": [
      "100%|█████████▉| 1064/1066 [13:10<00:01,  1.28it/s]"
     ]
    },
    {
     "name": "stdout",
     "output_type": "stream",
     "text": [
      "INFO:tensorflow:Restoring parameters from /home/lovenan/.conda/envs/img2mol-local/lib/python3.6/site-packages/cddd/data/default_model/model.ckpt\n"
     ]
    },
    {
     "name": "stderr",
     "output_type": "stream",
     "text": [
      "100%|█████████▉| 1065/1066 [13:11<00:00,  1.32it/s]"
     ]
    },
    {
     "name": "stdout",
     "output_type": "stream",
     "text": [
      "INFO:tensorflow:Restoring parameters from /home/lovenan/.conda/envs/img2mol-local/lib/python3.6/site-packages/cddd/data/default_model/model.ckpt\n"
     ]
    },
    {
     "name": "stderr",
     "output_type": "stream",
     "text": [
      "100%|██████████| 1066/1066 [13:12<00:00,  1.35it/s]\n"
     ]
    }
   ],
   "source": [
    "LactMed_dataset = [i for i in os.listdir('../drug-diffuser-0717/datasets/LactMed/') if i.endswith('.jpg')]\n",
    "LactMed_result = []\n",
    "for image in tqdm(LactMed_dataset):\n",
    "    tmp_res = img2mol(filepath=f'../drug-diffuser-0717/datasets/LactMed/{image}')\n",
    "    LactMed_result.append(tmp_res)\n",
    "    if (len(LactMed_result) + 1) % 50 == 0:\n",
    "        print(len(LactMed_result))\n",
    "df_lac = pd.DataFrame(LactMed_result)\n",
    "df_lac.iloc[:, :3].to_csv('LactMed_result.csv', index=False)"
   ]
  },
  {
   "cell_type": "code",
   "execution_count": null,
   "id": "dd86db78-c0b2-4246-a514-e5e66117bac9",
   "metadata": {},
   "outputs": [],
   "source": []
  },
  {
   "cell_type": "code",
   "execution_count": null,
   "id": "2b1b8562-9c09-407e-bc54-960bc1973f67",
   "metadata": {},
   "outputs": [],
   "source": []
  },
  {
   "cell_type": "code",
   "execution_count": null,
   "id": "4a0cc8d9-fcf1-4a30-ade8-2a310fe1908c",
   "metadata": {},
   "outputs": [],
   "source": []
  },
  {
   "cell_type": "code",
   "execution_count": null,
   "id": "24a20cfa",
   "metadata": {},
   "outputs": [],
   "source": [
    "os.listdir(\"examples/\")"
   ]
  },
  {
   "cell_type": "code",
   "execution_count": null,
   "id": "902c1057",
   "metadata": {},
   "outputs": [],
   "source": [
    "res = img2mol(filepath=\"examples/digital_example1.png\")"
   ]
  },
  {
   "cell_type": "code",
   "execution_count": null,
   "id": "bd748334",
   "metadata": {},
   "outputs": [],
   "source": [
    "res"
   ]
  },
  {
   "cell_type": "code",
   "execution_count": null,
   "id": "af273a49",
   "metadata": {},
   "outputs": [],
   "source": [
    "input_img = Image.open(res[\"filepath\"], \"r\")"
   ]
  },
  {
   "cell_type": "code",
   "execution_count": null,
   "id": "2657ad09",
   "metadata": {
    "collapsed": true,
    "jupyter": {
     "outputs_hidden": true
    },
    "tags": []
   },
   "outputs": [],
   "source": [
    "display(input_img)"
   ]
  },
  {
   "cell_type": "markdown",
   "id": "80a91bd6",
   "metadata": {},
   "source": [
    "# show prediction"
   ]
  },
  {
   "cell_type": "code",
   "execution_count": null,
   "id": "ebf67ab2",
   "metadata": {},
   "outputs": [],
   "source": [
    "print(res[\"smiles\"])\n",
    "print()\n",
    "res[\"mol\"]"
   ]
  },
  {
   "cell_type": "markdown",
   "id": "e68f0281",
   "metadata": {},
   "source": [
    "# Different Example"
   ]
  },
  {
   "cell_type": "code",
   "execution_count": null,
   "id": "9655bd18",
   "metadata": {},
   "outputs": [],
   "source": [
    "example = \"examples/example2.png\"\n",
    "res = img2mol(filepath=\"examples/digital_example2.png\")\n",
    "input_img = Image.open(res[\"filepath\"], \"r\")"
   ]
  },
  {
   "cell_type": "code",
   "execution_count": null,
   "id": "4b294b23",
   "metadata": {},
   "outputs": [],
   "source": [
    "display(input_img)"
   ]
  },
  {
   "cell_type": "code",
   "execution_count": null,
   "id": "9afc6ad8",
   "metadata": {},
   "outputs": [],
   "source": [
    "print(res[\"smiles\"])\n",
    "print()\n",
    "res[\"mol\"]"
   ]
  },
  {
   "cell_type": "markdown",
   "id": "f2274b9f",
   "metadata": {},
   "source": [
    "# Another example on a handwritten image"
   ]
  },
  {
   "cell_type": "code",
   "execution_count": null,
   "id": "2d63aae9",
   "metadata": {},
   "outputs": [],
   "source": [
    "res = img2mol(filepath=\"examples/handwritten_example1.png\")\n",
    "input_img = Image.open(res[\"filepath\"], \"r\")"
   ]
  },
  {
   "cell_type": "code",
   "execution_count": null,
   "id": "c5a2704f",
   "metadata": {},
   "outputs": [],
   "source": [
    "display(input_img)"
   ]
  },
  {
   "cell_type": "code",
   "execution_count": null,
   "id": "76ec658c",
   "metadata": {},
   "outputs": [],
   "source": [
    "print(res[\"smiles\"])\n",
    "print()\n",
    "res[\"mol\"]"
   ]
  },
  {
   "cell_type": "markdown",
   "id": "720eeba8",
   "metadata": {},
   "source": [
    "# Next example "
   ]
  },
  {
   "cell_type": "code",
   "execution_count": null,
   "id": "0387809d",
   "metadata": {},
   "outputs": [],
   "source": [
    "res = img2mol(filepath=\"examples/handwritten_example2.jpg\")\n",
    "input_img = Image.open(res[\"filepath\"], \"r\")"
   ]
  },
  {
   "cell_type": "code",
   "execution_count": null,
   "id": "9b4ca23b",
   "metadata": {},
   "outputs": [],
   "source": [
    "display(input_img)"
   ]
  },
  {
   "cell_type": "code",
   "execution_count": null,
   "id": "fa46418b",
   "metadata": {},
   "outputs": [],
   "source": [
    "print(res[\"smiles\"])\n",
    "print()\n",
    "res[\"mol\"]"
   ]
  },
  {
   "cell_type": "code",
   "execution_count": null,
   "id": "9ba06b12",
   "metadata": {},
   "outputs": [],
   "source": []
  }
 ],
 "metadata": {
  "kernelspec": {
   "display_name": "Python 3 (ipykernel)",
   "language": "python",
   "name": "python3"
  },
  "language_info": {
   "codemirror_mode": {
    "name": "ipython",
    "version": 3
   },
   "file_extension": ".py",
   "mimetype": "text/x-python",
   "name": "python",
   "nbconvert_exporter": "python",
   "pygments_lexer": "ipython3",
   "version": "3.10.9"
  },
  "vscode": {
   "interpreter": {
    "hash": "fbd02a9bd0ce7b123cc507013b34dda769d49e72a01d3fbf30ab009e81556d20"
   }
  }
 },
 "nbformat": 4,
 "nbformat_minor": 5
}
